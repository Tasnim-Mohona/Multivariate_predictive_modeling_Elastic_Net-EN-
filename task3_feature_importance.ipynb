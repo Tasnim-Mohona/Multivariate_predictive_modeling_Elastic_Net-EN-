{
  "cells": [
    {
      "cell_type": "markdown",
      "id": "d037a6f6-8f80-4bf5-99bc-2efd4f6e8d29",
      "metadata": {
        "id": "d037a6f6-8f80-4bf5-99bc-2efd4f6e8d29"
      },
      "source": [
        "# Task 3: Feature importance"
      ]
    },
    {
      "cell_type": "code",
      "source": [
        "from google.colab import drive\n",
        "drive.mount('/content/drive/')"
      ],
      "metadata": {
        "colab": {
          "base_uri": "https://localhost:8080/"
        },
        "id": "_HAm0mxkM-Pt",
        "outputId": "9517f5d4-d0fb-41b2-d44f-e9518b38519b"
      },
      "id": "_HAm0mxkM-Pt",
      "execution_count": null,
      "outputs": [
        {
          "output_type": "stream",
          "name": "stdout",
          "text": [
            "Mounted at /content/drive/\n"
          ]
        }
      ]
    },
    {
      "cell_type": "code",
      "execution_count": null,
      "id": "ecd7073c-4e04-4219-b1f4-f1b6c88a5707",
      "metadata": {
        "tags": [],
        "id": "ecd7073c-4e04-4219-b1f4-f1b6c88a5707"
      },
      "outputs": [],
      "source": [
        "import pickle\n",
        "import numpy as np\n",
        "import pandas as pd\n",
        "from sklearn.datasets import make_regression\n",
        "from sklearn.linear_model import RidgeCV, LinearRegression, Ridge\n",
        "from scipy.stats import pearsonr\n",
        "from sklearn.pipeline import make_pipeline\n",
        "from sklearn.preprocessing import StandardScaler"
      ]
    },
    {
      "cell_type": "markdown",
      "id": "68577b4e-0792-4e99-9759-94daa126f736",
      "metadata": {
        "id": "68577b4e-0792-4e99-9759-94daa126f736"
      },
      "source": [
        "## Load data"
      ]
    },
    {
      "cell_type": "code",
      "execution_count": null,
      "id": "39648f19-a15c-491f-99d8-82f4fb16ff33",
      "metadata": {
        "tags": [],
        "id": "39648f19-a15c-491f-99d8-82f4fb16ff33"
      },
      "outputs": [],
      "source": [
        "with open(\"/content/drive/MyDrive/bckrlab-exercises/task3_feature-importance_data.pickle\", \"rb\") as f:\n",
        "    X, y = pickle.load(f)\n",
        "    # file = pickle.load(f)"
      ]
    },
    {
      "cell_type": "code",
      "source": [
        "f"
      ],
      "metadata": {
        "colab": {
          "base_uri": "https://localhost:8080/"
        },
        "id": "8Li8u9aUNhBW",
        "outputId": "41d46b38-506f-41a2-9428-feb4d86f6c57"
      },
      "id": "8Li8u9aUNhBW",
      "execution_count": null,
      "outputs": [
        {
          "output_type": "execute_result",
          "data": {
            "text/plain": [
              "<_io.BufferedReader name='/content/drive/MyDrive/bckrlab-exercises/task3_feature-importance_data.pickle'>"
            ]
          },
          "metadata": {},
          "execution_count": 12
        }
      ]
    },
    {
      "cell_type": "markdown",
      "id": "908439a8-7034-4858-bd22-3c4d1778ce99",
      "metadata": {
        "id": "908439a8-7034-4858-bd22-3c4d1778ce99"
      },
      "source": [
        "## Fit model"
      ]
    },
    {
      "cell_type": "code",
      "execution_count": null,
      "id": "19f20262-9fae-49dd-980a-b5cf20ffebdc",
      "metadata": {
        "tags": [],
        "colab": {
          "base_uri": "https://localhost:8080/",
          "height": 172
        },
        "id": "19f20262-9fae-49dd-980a-b5cf20ffebdc",
        "outputId": "b9fd0916-a3d7-4178-f082-a63b0a0a071a"
      },
      "outputs": [
        {
          "output_type": "execute_result",
          "data": {
            "text/plain": [
              "Pipeline(steps=[('standardscaler', StandardScaler()), ('ridgecv', RidgeCV())])"
            ],
            "text/html": [
              "<style>#sk-container-id-1 {color: black;background-color: white;}#sk-container-id-1 pre{padding: 0;}#sk-container-id-1 div.sk-toggleable {background-color: white;}#sk-container-id-1 label.sk-toggleable__label {cursor: pointer;display: block;width: 100%;margin-bottom: 0;padding: 0.3em;box-sizing: border-box;text-align: center;}#sk-container-id-1 label.sk-toggleable__label-arrow:before {content: \"▸\";float: left;margin-right: 0.25em;color: #696969;}#sk-container-id-1 label.sk-toggleable__label-arrow:hover:before {color: black;}#sk-container-id-1 div.sk-estimator:hover label.sk-toggleable__label-arrow:before {color: black;}#sk-container-id-1 div.sk-toggleable__content {max-height: 0;max-width: 0;overflow: hidden;text-align: left;background-color: #f0f8ff;}#sk-container-id-1 div.sk-toggleable__content pre {margin: 0.2em;color: black;border-radius: 0.25em;background-color: #f0f8ff;}#sk-container-id-1 input.sk-toggleable__control:checked~div.sk-toggleable__content {max-height: 200px;max-width: 100%;overflow: auto;}#sk-container-id-1 input.sk-toggleable__control:checked~label.sk-toggleable__label-arrow:before {content: \"▾\";}#sk-container-id-1 div.sk-estimator input.sk-toggleable__control:checked~label.sk-toggleable__label {background-color: #d4ebff;}#sk-container-id-1 div.sk-label input.sk-toggleable__control:checked~label.sk-toggleable__label {background-color: #d4ebff;}#sk-container-id-1 input.sk-hidden--visually {border: 0;clip: rect(1px 1px 1px 1px);clip: rect(1px, 1px, 1px, 1px);height: 1px;margin: -1px;overflow: hidden;padding: 0;position: absolute;width: 1px;}#sk-container-id-1 div.sk-estimator {font-family: monospace;background-color: #f0f8ff;border: 1px dotted black;border-radius: 0.25em;box-sizing: border-box;margin-bottom: 0.5em;}#sk-container-id-1 div.sk-estimator:hover {background-color: #d4ebff;}#sk-container-id-1 div.sk-parallel-item::after {content: \"\";width: 100%;border-bottom: 1px solid gray;flex-grow: 1;}#sk-container-id-1 div.sk-label:hover label.sk-toggleable__label {background-color: #d4ebff;}#sk-container-id-1 div.sk-serial::before {content: \"\";position: absolute;border-left: 1px solid gray;box-sizing: border-box;top: 0;bottom: 0;left: 50%;z-index: 0;}#sk-container-id-1 div.sk-serial {display: flex;flex-direction: column;align-items: center;background-color: white;padding-right: 0.2em;padding-left: 0.2em;position: relative;}#sk-container-id-1 div.sk-item {position: relative;z-index: 1;}#sk-container-id-1 div.sk-parallel {display: flex;align-items: stretch;justify-content: center;background-color: white;position: relative;}#sk-container-id-1 div.sk-item::before, #sk-container-id-1 div.sk-parallel-item::before {content: \"\";position: absolute;border-left: 1px solid gray;box-sizing: border-box;top: 0;bottom: 0;left: 50%;z-index: -1;}#sk-container-id-1 div.sk-parallel-item {display: flex;flex-direction: column;z-index: 1;position: relative;background-color: white;}#sk-container-id-1 div.sk-parallel-item:first-child::after {align-self: flex-end;width: 50%;}#sk-container-id-1 div.sk-parallel-item:last-child::after {align-self: flex-start;width: 50%;}#sk-container-id-1 div.sk-parallel-item:only-child::after {width: 0;}#sk-container-id-1 div.sk-dashed-wrapped {border: 1px dashed gray;margin: 0 0.4em 0.5em 0.4em;box-sizing: border-box;padding-bottom: 0.4em;background-color: white;}#sk-container-id-1 div.sk-label label {font-family: monospace;font-weight: bold;display: inline-block;line-height: 1.2em;}#sk-container-id-1 div.sk-label-container {text-align: center;}#sk-container-id-1 div.sk-container {/* jupyter's `normalize.less` sets `[hidden] { display: none; }` but bootstrap.min.css set `[hidden] { display: none !important; }` so we also need the `!important` here to be able to override the default hidden behavior on the sphinx rendered scikit-learn.org. See: https://github.com/scikit-learn/scikit-learn/issues/21755 */display: inline-block !important;position: relative;}#sk-container-id-1 div.sk-text-repr-fallback {display: none;}</style><div id=\"sk-container-id-1\" class=\"sk-top-container\"><div class=\"sk-text-repr-fallback\"><pre>Pipeline(steps=[(&#x27;standardscaler&#x27;, StandardScaler()), (&#x27;ridgecv&#x27;, RidgeCV())])</pre><b>In a Jupyter environment, please rerun this cell to show the HTML representation or trust the notebook. <br />On GitHub, the HTML representation is unable to render, please try loading this page with nbviewer.org.</b></div><div class=\"sk-container\" hidden><div class=\"sk-item sk-dashed-wrapped\"><div class=\"sk-label-container\"><div class=\"sk-label sk-toggleable\"><input class=\"sk-toggleable__control sk-hidden--visually\" id=\"sk-estimator-id-1\" type=\"checkbox\" ><label for=\"sk-estimator-id-1\" class=\"sk-toggleable__label sk-toggleable__label-arrow\">Pipeline</label><div class=\"sk-toggleable__content\"><pre>Pipeline(steps=[(&#x27;standardscaler&#x27;, StandardScaler()), (&#x27;ridgecv&#x27;, RidgeCV())])</pre></div></div></div><div class=\"sk-serial\"><div class=\"sk-item\"><div class=\"sk-estimator sk-toggleable\"><input class=\"sk-toggleable__control sk-hidden--visually\" id=\"sk-estimator-id-2\" type=\"checkbox\" ><label for=\"sk-estimator-id-2\" class=\"sk-toggleable__label sk-toggleable__label-arrow\">StandardScaler</label><div class=\"sk-toggleable__content\"><pre>StandardScaler()</pre></div></div></div><div class=\"sk-item\"><div class=\"sk-estimator sk-toggleable\"><input class=\"sk-toggleable__control sk-hidden--visually\" id=\"sk-estimator-id-3\" type=\"checkbox\" ><label for=\"sk-estimator-id-3\" class=\"sk-toggleable__label sk-toggleable__label-arrow\">RidgeCV</label><div class=\"sk-toggleable__content\"><pre>RidgeCV()</pre></div></div></div></div></div></div></div>"
            ]
          },
          "metadata": {},
          "execution_count": 10
        }
      ],
      "source": [
        "model = make_pipeline(StandardScaler(), RidgeCV())\n",
        "model.fit(X, y)"
      ]
    },
    {
      "cell_type": "markdown",
      "id": "dbd04307-8af6-4210-b49d-7c1628c4d83f",
      "metadata": {
        "id": "dbd04307-8af6-4210-b49d-7c1628c4d83f"
      },
      "source": [
        "## Analyse correlations and model coefficients"
      ]
    },
    {
      "cell_type": "code",
      "execution_count": null,
      "id": "42111095-046a-4a95-8776-54fea339491a",
      "metadata": {
        "tags": [],
        "id": "42111095-046a-4a95-8776-54fea339491a"
      },
      "outputs": [],
      "source": [
        "correlations_r = [pearsonr(X[:, i], y)[0] for i in range(X.shape[1])]\n",
        "correlations_p = [pearsonr(X[:, i], y)[1] for i in range(X.shape[1])]"
      ]
    },
    {
      "cell_type": "code",
      "source": [
        "correlations_p"
      ],
      "metadata": {
        "colab": {
          "base_uri": "https://localhost:8080/"
        },
        "id": "VcJMZ2flQAXK",
        "outputId": "3f3824b8-1a51-46ef-cd27-37cdb74e8f4b"
      },
      "id": "VcJMZ2flQAXK",
      "execution_count": null,
      "outputs": [
        {
          "output_type": "execute_result",
          "data": {
            "text/plain": [
              "[0.273966000990635,\n",
              " 0.7581588469525398,\n",
              " 2.160929482002356e-63,\n",
              " 0.11493662368098062,\n",
              " 1.0197250230967917e-81,\n",
              " 4.339895126001623e-90,\n",
              " 0.5063249445046959,\n",
              " 0.7588043398937258,\n",
              " 0.4429447125215523,\n",
              " 0.6775740385810042]"
            ]
          },
          "metadata": {},
          "execution_count": 14
        }
      ]
    },
    {
      "cell_type": "code",
      "source": [
        "correlations_r"
      ],
      "metadata": {
        "colab": {
          "base_uri": "https://localhost:8080/"
        },
        "id": "3PW9fmjGVJJJ",
        "outputId": "aa8db5e8-3bc5-4a34-a741-b7c43ccc7a63"
      },
      "id": "3PW9fmjGVJJJ",
      "execution_count": null,
      "outputs": [
        {
          "output_type": "execute_result",
          "data": {
            "text/plain": [
              "[-0.034627457350699706,\n",
              " 0.009748596817114225,\n",
              " 0.4966096277457641,\n",
              " 0.04988109058023978,\n",
              " 0.5545795931016668,\n",
              " 0.57770353097386,\n",
              " -0.021039567598160145,\n",
              " -0.009721743778694045,\n",
              " 0.024288745633746216,\n",
              " 0.013163881192390406]"
            ]
          },
          "metadata": {},
          "execution_count": 15
        }
      ]
    },
    {
      "cell_type": "code",
      "execution_count": null,
      "id": "655032af-d823-45a6-a9db-579408e34221",
      "metadata": {
        "tags": [],
        "id": "655032af-d823-45a6-a9db-579408e34221",
        "outputId": "6fdb8dcb-9d07-476e-9851-03607ace8082"
      },
      "outputs": [
        {
          "data": {
            "text/html": [
              "<div>\n",
              "<style scoped>\n",
              "    .dataframe tbody tr th:only-of-type {\n",
              "        vertical-align: middle;\n",
              "    }\n",
              "\n",
              "    .dataframe tbody tr th {\n",
              "        vertical-align: top;\n",
              "    }\n",
              "\n",
              "    .dataframe thead th {\n",
              "        text-align: right;\n",
              "    }\n",
              "</style>\n",
              "<table border=\"1\" class=\"dataframe\">\n",
              "  <thead>\n",
              "    <tr style=\"text-align: right;\">\n",
              "      <th></th>\n",
              "      <th>coef</th>\n",
              "      <th>correlation r</th>\n",
              "      <th>correlation p</th>\n",
              "    </tr>\n",
              "  </thead>\n",
              "  <tbody>\n",
              "    <tr>\n",
              "      <th>feature 0</th>\n",
              "      <td>-1.529528</td>\n",
              "      <td>-0.034627</td>\n",
              "      <td>2.739660e-01</td>\n",
              "    </tr>\n",
              "    <tr>\n",
              "      <th>feature 1</th>\n",
              "      <td>0.516905</td>\n",
              "      <td>0.009749</td>\n",
              "      <td>7.581588e-01</td>\n",
              "    </tr>\n",
              "    <tr>\n",
              "      <th>feature 2</th>\n",
              "      <td>59.958697</td>\n",
              "      <td>0.496610</td>\n",
              "      <td>2.160929e-63</td>\n",
              "    </tr>\n",
              "    <tr>\n",
              "      <th>feature 3</th>\n",
              "      <td>0.053120</td>\n",
              "      <td>0.049881</td>\n",
              "      <td>1.149366e-01</td>\n",
              "    </tr>\n",
              "    <tr>\n",
              "      <th>feature 4</th>\n",
              "      <td>68.390912</td>\n",
              "      <td>0.554580</td>\n",
              "      <td>1.019725e-81</td>\n",
              "    </tr>\n",
              "    <tr>\n",
              "      <th>feature 5</th>\n",
              "      <td>72.159892</td>\n",
              "      <td>0.577704</td>\n",
              "      <td>4.339895e-90</td>\n",
              "    </tr>\n",
              "    <tr>\n",
              "      <th>feature 6</th>\n",
              "      <td>-2.134884</td>\n",
              "      <td>-0.021040</td>\n",
              "      <td>5.063249e-01</td>\n",
              "    </tr>\n",
              "    <tr>\n",
              "      <th>feature 7</th>\n",
              "      <td>39.197821</td>\n",
              "      <td>-0.009722</td>\n",
              "      <td>7.588043e-01</td>\n",
              "    </tr>\n",
              "    <tr>\n",
              "      <th>feature 8</th>\n",
              "      <td>40.087218</td>\n",
              "      <td>0.024289</td>\n",
              "      <td>4.429447e-01</td>\n",
              "    </tr>\n",
              "    <tr>\n",
              "      <th>feature 9</th>\n",
              "      <td>1.915710</td>\n",
              "      <td>0.013164</td>\n",
              "      <td>6.775740e-01</td>\n",
              "    </tr>\n",
              "  </tbody>\n",
              "</table>\n",
              "</div>"
            ],
            "text/plain": [
              "                coef  correlation r  correlation p\n",
              "feature 0  -1.529528      -0.034627   2.739660e-01\n",
              "feature 1   0.516905       0.009749   7.581588e-01\n",
              "feature 2  59.958697       0.496610   2.160929e-63\n",
              "feature 3   0.053120       0.049881   1.149366e-01\n",
              "feature 4  68.390912       0.554580   1.019725e-81\n",
              "feature 5  72.159892       0.577704   4.339895e-90\n",
              "feature 6  -2.134884      -0.021040   5.063249e-01\n",
              "feature 7  39.197821      -0.009722   7.588043e-01\n",
              "feature 8  40.087218       0.024289   4.429447e-01\n",
              "feature 9   1.915710       0.013164   6.775740e-01"
            ]
          },
          "execution_count": 30,
          "metadata": {},
          "output_type": "execute_result"
        }
      ],
      "source": [
        "df = pd.DataFrame({\n",
        "        \"coef\": model[\"ridgecv\"].coef_,\n",
        "        \"correlation r\": correlations_r,\n",
        "        \"correlation p\": correlations_p},\n",
        "    index=[f\"feature {i}\" for i in range(X.shape[1])])\n",
        "df"
      ]
    },
    {
      "cell_type": "code",
      "execution_count": null,
      "id": "f2174c0c-5482-4f6b-82e8-e57aa9704550",
      "metadata": {
        "tags": [],
        "id": "f2174c0c-5482-4f6b-82e8-e57aa9704550",
        "outputId": "ae578196-f6d2-4c0b-f4a7-2069339f7258"
      },
      "outputs": [
        {
          "data": {
            "text/plain": [
              "(array([0., 1.]), array([0., 1.]))"
            ]
          },
          "execution_count": 31,
          "metadata": {},
          "output_type": "execute_result"
        }
      ],
      "source": [
        "# feature 7 and 8 are binary\n",
        "np.unique(X[:,7]), np.unique(X[:,8])"
      ]
    },
    {
      "cell_type": "code",
      "execution_count": null,
      "id": "94e191b4-3043-48c8-9ce2-9da4a5b268c2",
      "metadata": {
        "tags": [],
        "id": "94e191b4-3043-48c8-9ce2-9da4a5b268c2",
        "outputId": "fa053b71-2605-40ff-8d0e-7faf0b7b8126"
      },
      "outputs": [
        {
          "data": {
            "text/plain": [
              "0"
            ]
          },
          "execution_count": 32,
          "metadata": {},
          "output_type": "execute_result"
        }
      ],
      "source": [
        "# feature 7 and 8 are mutually exclusive\n",
        "((X[:,7] == 1) & (X[:,8] == 1)).sum()"
      ]
    },
    {
      "cell_type": "code",
      "execution_count": null,
      "id": "f57fa0f9-ad96-4fe7-a8ed-b6c9b39507ed",
      "metadata": {
        "tags": [],
        "id": "f57fa0f9-ad96-4fe7-a8ed-b6c9b39507ed",
        "outputId": "ee9242f8-99fe-4f14-9df6-2f546d632b1b"
      },
      "outputs": [
        {
          "data": {
            "text/plain": [
              "0.99"
            ]
          },
          "execution_count": 33,
          "metadata": {},
          "output_type": "execute_result"
        }
      ],
      "source": [
        "# feature 7 and 8 nearly cover the whole dataset!\n",
        "((X[:,7] == 1) | (X[:,8] == 1)).sum() / X.shape[0]"
      ]
    },
    {
      "cell_type": "markdown",
      "id": "427a7189-cd59-4ee3-a88a-be272018ad31",
      "metadata": {
        "id": "427a7189-cd59-4ee3-a88a-be272018ad31"
      },
      "source": [
        "## Tasks"
      ]
    },
    {
      "cell_type": "markdown",
      "id": "785a310e-b828-476a-b2df-9bf01adc2b6a",
      "metadata": {
        "id": "785a310e-b828-476a-b2df-9bf01adc2b6a"
      },
      "source": [
        "Feature 7 and 8 seem to be important features for the model (with coefficients > 30!). However, taking a closer look, they are both binary, mutually exclusive, and nearly cover the whole dataset. Also they are barely correlated to the outcome by themselves. I would not expect them to both have such a high importance for the model and on top of that both positive! What is going on?"
      ]
    },
    {
      "cell_type": "code",
      "execution_count": null,
      "id": "f5cea97e-fa2c-4513-aed4-fffbff5857a4",
      "metadata": {
        "id": "f5cea97e-fa2c-4513-aed4-fffbff5857a4"
      },
      "outputs": [],
      "source": []
    },
    {
      "cell_type": "markdown",
      "source": [
        "This phenopmena may just be a coincedence. For example, The age of a property doesn't necessarily influence the price of that property, it is more related to the location, transport system or inflation in economy. However, it might seem that with age, the property price increses, hence it will result in  high c orrelation eventhough age may have nothing to do with it.\n",
        "\n",
        "\n",
        "Features 7 and 8 might be highly correlated with other features in the dataset, contributing to their apparent importance. Ridge regression, used in the code, includes a regularization term that can distribute coefficients among correlated features. If these binary features are correlated with the target variable but not necessarily causally related, Ridge regression might assign high coefficients to them.\n",
        "\n",
        "Two variables are considered perfectly collinear if their correlation coefficient is +/-1.0, Ridge regression penalty is equal to the square of magnitude of coefficients. Two binary features (7 and 8) show high importance in the model despite their characteristics and the dataset's properties.\n",
        "1.\tRandomness in Dataset\n",
        "The high correlation among features may just be a coincidence. Due to the randomness achieved via randomly generated data, few features just might turn out to have a higher correlation than in reality. This phenomenon may just be a coincidence. For example, the age of a property doesn't necessarily influence the price of that property, it is more related to the location, transport system or inflation in the economy. However, it might seem that with age, the property price increases, hence it will result in a high c correlation even though age may have nothing to do with it.\n",
        "2.\tCollinearity among the Features\n",
        "Features 7 and 8 might be highly correlated with other features in the dataset, contributing to extensive influence. Ridge regression Code includes a regularization term that can distribute coefficients among correlated features. If these binary features are correlated with the target variable but not directly/causally related, Ridge regression might assign high coefficients to them.\n",
        "3.\tNoise in Output\n",
        "RidgeCV does not reduce coefficients to zero, it might just try to fit the data resulting in overfitting.\n",
        "\n"
      ],
      "metadata": {
        "id": "aSZLCtzAT56y"
      },
      "id": "aSZLCtzAT56y"
    }
  ],
  "metadata": {
    "kernelspec": {
      "display_name": "pregnancy-vaccine",
      "language": "python",
      "name": "pregnancy-vaccine"
    },
    "language_info": {
      "codemirror_mode": {
        "name": "ipython",
        "version": 3
      },
      "file_extension": ".py",
      "mimetype": "text/x-python",
      "name": "python",
      "nbconvert_exporter": "python",
      "pygments_lexer": "ipython3",
      "version": "3.10.12"
    },
    "colab": {
      "provenance": []
    }
  },
  "nbformat": 4,
  "nbformat_minor": 5
}